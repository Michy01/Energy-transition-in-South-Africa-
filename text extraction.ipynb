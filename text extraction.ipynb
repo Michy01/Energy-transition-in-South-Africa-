{
 "cells": [
  {
   "cell_type": "code",
   "execution_count": 6,
   "id": "9b3eeb2a",
   "metadata": {},
   "outputs": [],
   "source": [
    "import pandas as pd"
   ]
  },
  {
   "cell_type": "markdown",
   "id": "6a27591c",
   "metadata": {},
   "source": [
    "#  Import package\n"
   ]
  },
  {
   "cell_type": "code",
   "execution_count": 1,
   "id": "97539ab0",
   "metadata": {},
   "outputs": [
    {
     "name": "stderr",
     "output_type": "stream",
     "text": [
      "Using region Littoral server backend.\n"
     ]
    }
   ],
   "source": [
    "from selenium import webdriver\n",
    "from selenium.webdriver.common.by import By\n",
    "from selenium.webdriver.common.keys import Keys\n",
    "import json\n",
    "import translators as ts\n",
    "# ts.translate_text"
   ]
  },
  {
   "cell_type": "code",
   "execution_count": 19,
   "id": "d9321bbc",
   "metadata": {},
   "outputs": [],
   "source": [
    "data= pd.read_csv(\"All_links.csv\")"
   ]
  },
  {
   "cell_type": "code",
   "execution_count": 20,
   "id": "67d1f549",
   "metadata": {},
   "outputs": [],
   "source": [
    "urls_list = list(data[\"links\"])"
   ]
  },
  {
   "cell_type": "code",
   "execution_count": 21,
   "id": "4bbac829",
   "metadata": {},
   "outputs": [
    {
     "data": {
      "text/plain": [
       "87"
      ]
     },
     "execution_count": 21,
     "metadata": {},
     "output_type": "execute_result"
    }
   ],
   "source": [
    "len(urls_list)"
   ]
  },
  {
   "cell_type": "code",
   "execution_count": null,
   "id": "78bef95c",
   "metadata": {},
   "outputs": [],
   "source": [
    "urls_list"
   ]
  },
  {
   "cell_type": "code",
   "execution_count": 59,
   "id": "c140bfb6",
   "metadata": {},
   "outputs": [],
   "source": [
    "\n",
    "def pageScraping(urls:list, outputfile)-> dict:\n",
    "    \n",
    "    # data save dictionnary\n",
    "    data = {\"sites\":[], \"texts\":[]}\n",
    "    # find text \n",
    "    for url in urls:\n",
    "        try:\n",
    "            browser = webdriver.Firefox()\n",
    "            browser.get(url)\n",
    "        except:\n",
    "            continue\n",
    "        texte = browser.find_element(By.TAG_NAME,\"body\").text\n",
    "        #browser.quit()\n",
    "        texto = texte.split(\"\\n\")\n",
    "        a= [i.capitalize() for i in texto if len(i.split())>=5 ]\n",
    "        a= [i for i in a if '|' not in i ]\n",
    "        a= [i for i in a if '/' not in i ]\n",
    "        #a= [ts.translate_text(i) for i in a  ]\n",
    "        for i in range(len(a)):\n",
    "            if a[i].endswith('.')==False:\n",
    "                a[i]+=\".\" \n",
    "        b = \" \".join(a)\n",
    "        b = ts.translate_text(b)\n",
    "        \n",
    "        # store the data \n",
    "        site = url.split('/')[2]\n",
    "        data[\"sites\"].append(site)\n",
    "        data[\"texts\"].append(b)\n",
    "        print(\"It running\")\n",
    "    # save in json file\n",
    "        browser.quit()\n",
    "        \n",
    "    \"\"\"  \n",
    "    jsonString = json.dumps(data)\n",
    "    jsonFile = open(outputfile, \"w\")\n",
    "    jsonFile.write(jsonString)\n",
    "    jsonFile.close()\n",
    "    print(\"It has done\")\"\"\"  \n",
    "    return data"
   ]
  },
  {
   "cell_type": "code",
   "execution_count": null,
   "id": "1859d0a1",
   "metadata": {},
   "outputs": [],
   "source": [
    "data_text = pageScraping(urls_list, \"output.json\")"
   ]
  },
  {
   "cell_type": "code",
   "execution_count": 64,
   "id": "a7aabe8f",
   "metadata": {},
   "outputs": [
    {
     "data": {
      "text/plain": [
       "(70, 70)"
      ]
     },
     "execution_count": 64,
     "metadata": {},
     "output_type": "execute_result"
    }
   ],
   "source": [
    "len(data_text[\"sites\"]), len(data_text[\"texts\"])"
   ]
  },
  {
   "cell_type": "markdown",
   "id": "585e3ad5",
   "metadata": {},
   "source": [
    "# Translation test"
   ]
  },
  {
   "cell_type": "code",
   "execution_count": 51,
   "id": "3a94c788",
   "metadata": {
    "scrolled": true
   },
   "outputs": [
    {
     "data": {
      "text/plain": [
       "\"Operating mines tenders multimedia opportunities. Contact faq's state owned entities.   meeting of the presidential climate commission on just energy transition, virtual platform. Date published: 30 jul 2021. Deputy chairperson of the commission, dr valli moosa. The executive director of the commission, dr olver. Thank you for this opportunity to engage again. the dmre welcomes the opportunity to engage with the commission on the just transition broadly, and to discuss the synergies with the work both the commission and the department are doing specifically on the just energy transition, and as far as our mandate and responsibility entails. I need to emphasise that this commission must engage with a diverse range of views, as this will allow us to also identify and focus on the blind spots in this complex discussion. this cannot just be a dialogue about financing and money, we need to understand the context of our domestic setting, which is characterised by rising unemployment and pove\""
      ]
     },
     "execution_count": 51,
     "metadata": {},
     "output_type": "execute_result"
    }
   ],
   "source": [
    " ts.translate_text(data_text[\"texts\"][0][:1000])"
   ]
  },
  {
   "cell_type": "markdown",
   "id": "1eceec8a",
   "metadata": {},
   "source": [
    "# convert into csv file"
   ]
  },
  {
   "cell_type": "code",
   "execution_count": 71,
   "id": "ea266ada",
   "metadata": {},
   "outputs": [],
   "source": [
    "database = pd.DataFrame(data_text)"
   ]
  },
  {
   "cell_type": "code",
   "execution_count": 72,
   "id": "2ebb8110",
   "metadata": {},
   "outputs": [],
   "source": [
    "database.to_csv(\"rightdata.csv\")"
   ]
  }
 ],
 "metadata": {
  "kernelspec": {
   "display_name": "Python 3",
   "language": "python",
   "name": "python3"
  },
  "language_info": {
   "codemirror_mode": {
    "name": "ipython",
    "version": 3
   },
   "file_extension": ".py",
   "mimetype": "text/x-python",
   "name": "python",
   "nbconvert_exporter": "python",
   "pygments_lexer": "ipython3",
   "version": "3.9.2"
  }
 },
 "nbformat": 4,
 "nbformat_minor": 5
}
